{
 "cells": [
  {
   "cell_type": "markdown",
   "metadata": {},
   "source": [
    "### Object oriented programming\n",
    "- Class\n",
    "    - collection of data members and member functions\n",
    "- object\n",
    "    - instance of a class \n",
    "- Inheritance"
   ]
  },
  {
   "cell_type": "code",
   "execution_count": null,
   "metadata": {},
   "outputs": [],
   "source": [
    "# class syntax\n",
    "class classname:\n",
    "    datamembers\n",
    "    memberfunctions\n",
    "ob = classname()"
   ]
  },
  {
   "cell_type": "code",
   "execution_count": 1,
   "metadata": {},
   "outputs": [
    {
     "data": {
      "text/plain": [
       "<__main__.Sample at 0x1503428a128>"
      ]
     },
     "execution_count": 1,
     "metadata": {},
     "output_type": "execute_result"
    }
   ],
   "source": [
    "class Sample:\n",
    "    pass\n",
    "ob = Sample()\n",
    "ob"
   ]
  },
  {
   "cell_type": "code",
   "execution_count": 2,
   "metadata": {},
   "outputs": [],
   "source": [
    "class Sample1:\n",
    "    \"\"\"This is a string inside a class\"\"\"\n",
    "    \n",
    "ob1 = Sample1()"
   ]
  },
  {
   "cell_type": "code",
   "execution_count": 3,
   "metadata": {},
   "outputs": [
    {
     "data": {
      "text/plain": [
       "<__main__.Sample1 at 0x1503428a588>"
      ]
     },
     "execution_count": 3,
     "metadata": {},
     "output_type": "execute_result"
    }
   ],
   "source": [
    "ob1"
   ]
  },
  {
   "cell_type": "code",
   "execution_count": 4,
   "metadata": {},
   "outputs": [
    {
     "data": {
      "text/plain": [
       "'This is a string inside a class'"
      ]
     },
     "execution_count": 4,
     "metadata": {},
     "output_type": "execute_result"
    }
   ],
   "source": [
    "ob1.__doc__"
   ]
  },
  {
   "cell_type": "code",
   "execution_count": 5,
   "metadata": {},
   "outputs": [
    {
     "name": "stdout",
     "output_type": "stream",
     "text": [
      "123 abc cse\n"
     ]
    }
   ],
   "source": [
    "class Student:\n",
    "    def __init__(self,sid,sname,sbranch):\n",
    "        self.sid = sid\n",
    "        self.sname = sname\n",
    "        self.sbranch = sbranch\n",
    "        \n",
    "        \n",
    "    def display(self):\n",
    "        print(self.sid,self.sname,self.sbranch)\n",
    "        \n",
    "    \n",
    "ob = Student(123,\"abc\",\"cse\")\n",
    "ob.display()"
   ]
  },
  {
   "cell_type": "code",
   "execution_count": 8,
   "metadata": {},
   "outputs": [
    {
     "name": "stdout",
     "output_type": "stream",
     "text": [
      "30\n"
     ]
    }
   ],
   "source": [
    "class Calculator:\n",
    "    def __init__(self,n1,n2):\n",
    "        self.n1 = n1\n",
    "        self.n2 = n2\n",
    "        \n",
    "    def add(self):\n",
    "        print(self.n1 + self.n2)\n",
    "        \n",
    "    #def sub():\n",
    "    \n",
    "    #def mul():\n",
    "        \n",
    "    #def div():\n",
    "        \n",
    "        \n",
    "ob = Calculator(10,20)\n",
    "ob.add()\n",
    "#ob.sub()\n",
    "#ob.mul()"
   ]
  },
  {
   "cell_type": "code",
   "execution_count": 10,
   "metadata": {},
   "outputs": [
    {
     "name": "stdout",
     "output_type": "stream",
     "text": [
      "employee name is abcd\n",
      "employee id is 123\n",
      "organization name is APSSDC\n",
      "5.0\n"
     ]
    }
   ],
   "source": [
    "class Employee:\n",
    "    org = \"APSSDC\"\n",
    "    def __init__(self,ename,eid):\n",
    "        self.ename = ename\n",
    "        self.eid = eid\n",
    "        \n",
    "    def show(self): # object method\n",
    "        print(\"employee name is \" +self.ename)\n",
    "        print(\"employee id is \"+self.eid)\n",
    "        \n",
    "    @classmethod\n",
    "    def organization(temp):\n",
    "        print(\"organization name is \"+temp.org)\n",
    "        \n",
    "    \n",
    "    @staticmethod\n",
    "    def div(a,b):\n",
    "        print(a/b)\n",
    "        \n",
    "ob1 = Employee(\"abcd\",\"123\")\n",
    "ob1.show()\n",
    "Employee.organization()\n",
    "Employee.div(10,2)"
   ]
  },
  {
   "cell_type": "markdown",
   "metadata": {},
   "source": [
    "#### Inheritance\n",
    "- extracting properties from parent class to child class\n",
    "##### Types of Inheritance\n",
    "- Single level inheritance\n",
    "- multi level inheritance\n",
    "- multiple inheritance\n",
    "- Hierarchical inheritance"
   ]
  },
  {
   "cell_type": "code",
   "execution_count": 13,
   "metadata": {},
   "outputs": [
    {
     "name": "stdout",
     "output_type": "stream",
     "text": [
      "in parent class one function\n",
      "in child class three function\n"
     ]
    }
   ],
   "source": [
    "# single level inheritance - extracting properties from one parent class to one child class\n",
    "class Parent:\n",
    "    def one(self):\n",
    "        print(\"in parent class one function\")\n",
    "    def two(self):\n",
    "        print(\"in parent class two function\")\n",
    "        \n",
    "class child(Parent):\n",
    "    def three(self):\n",
    "        print(\"in child class three function\")\n",
    "        \n",
    "    def four(self):\n",
    "        print(\"in child class four function\")\n",
    "        \n",
    "ob = child()\n",
    "ob.one()\n",
    "ob.three()"
   ]
  },
  {
   "cell_type": "code",
   "execution_count": 14,
   "metadata": {},
   "outputs": [
    {
     "name": "stdout",
     "output_type": "stream",
     "text": [
      "grandfather name Parentone\n",
      "Father name Parenttwo\n",
      "Parentone\n",
      "father name isParenttwo\n"
     ]
    }
   ],
   "source": [
    "# Multi level inheritance - if a child class is derived from more than one parent class \n",
    "# P1 --> P2(P1) --> c(P2) --> D (c)\n",
    "class GrandFather:\n",
    "    gfname = \"\"\n",
    "    def gf(self):\n",
    "        print(self.gfname)\n",
    "        \n",
    "class Father(GrandFather):\n",
    "    fname = \"\"\n",
    "    def father(self):\n",
    "        print(\"father name is\"+self.fname)\n",
    "        \n",
    "class Child(Father):\n",
    "    def display(self):\n",
    "        print(\"grandfather name \"+self.gfname)\n",
    "        print(\"Father name \"+self.fname)\n",
    "        \n",
    "ob = Child()\n",
    "\n",
    "ob.gfname = \"Parentone\"\n",
    "ob.fname = \"Parenttwo\"\n",
    "\n",
    "ob.display()\n",
    "\n",
    "ob.gf()\n",
    "ob.father()"
   ]
  },
  {
   "cell_type": "code",
   "execution_count": 15,
   "metadata": {},
   "outputs": [
    {
     "name": "stdout",
     "output_type": "stream",
     "text": [
      "mother name sita\n",
      "fathernamerama\n",
      "sita\n",
      "rama\n"
     ]
    }
   ],
   "source": [
    "# multiple Inheritance - if a child class is a combination of one or more parent classes\n",
    "# M ,F ---> Child\n",
    "class Mother:\n",
    "    mname = \"\"\n",
    "    def m (self):\n",
    "        print(self.mname)\n",
    "        \n",
    "class Father:\n",
    "    fname = \"\"\n",
    "    def f(self):\n",
    "        print(self.fname)\n",
    "        \n",
    "class child(Mother,Father):\n",
    "    def c(self):\n",
    "        print(\"mother name \"+self.mname)\n",
    "        print(\"fathername\"+self.fname)\n",
    "        \n",
    "ob = child()\n",
    "\n",
    "ob.mname = \"sita\"\n",
    "ob.fname = \"rama\"\n",
    "\n",
    "ob.c()\n",
    "ob.m()\n",
    "ob.f()"
   ]
  },
  {
   "cell_type": "code",
   "execution_count": 16,
   "metadata": {},
   "outputs": [
    {
     "name": "stdout",
     "output_type": "stream",
     "text": [
      "in parent class a function\n",
      "in child1 class b function\n",
      "in parent class a function\n",
      "in child2 class c function\n"
     ]
    }
   ],
   "source": [
    "# Hierachical Inheritance - one or more child classes are derived from single parent class\n",
    "class Parent:\n",
    "    def a(self):\n",
    "        print(\"in parent class a function\")\n",
    "        \n",
    "class child1(Parent):\n",
    "    def b(self):\n",
    "        print(\"in child1 class b function\")\n",
    "        \n",
    "class child2(Parent):\n",
    "    def c(self):\n",
    "        print(\"in child2 class c function\")\n",
    "        \n",
    "ob1 = child1()\n",
    "ob2 = child2()\n",
    "\n",
    "ob1.a()\n",
    "ob1.b()\n",
    "\n",
    "ob2.a()\n",
    "ob2.c()"
   ]
  },
  {
   "cell_type": "code",
   "execution_count": null,
   "metadata": {},
   "outputs": [],
   "source": []
  }
 ],
 "metadata": {
  "kernelspec": {
   "display_name": "Python 3",
   "language": "python",
   "name": "python3"
  },
  "language_info": {
   "codemirror_mode": {
    "name": "ipython",
    "version": 3
   },
   "file_extension": ".py",
   "mimetype": "text/x-python",
   "name": "python",
   "nbconvert_exporter": "python",
   "pygments_lexer": "ipython3",
   "version": "3.7.1"
  }
 },
 "nbformat": 4,
 "nbformat_minor": 2
}
