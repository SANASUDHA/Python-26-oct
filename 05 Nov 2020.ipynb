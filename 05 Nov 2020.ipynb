{
 "cells": [
  {
   "cell_type": "markdown",
   "metadata": {},
   "source": [
    "#### Regular Expressions\n",
    "- RegEx is a sequence of characters that match a pattern\n",
    "- import re \n",
    "- symbols          Explaination\n",
    "- ^                matches the begining\n",
    "- []               represents a character\n",
    "- .                matches any character\n",
    "- *                zero or more occureneces\n",
    "- +                one or more occurences\n",
    "- |                OR\n",
    "- {}               range set \n",
    "- [a-z]            represents lower case alphabet \n",
    "- [0-9]            digits\n",
    "- $                matches the ending"
   ]
  },
  {
   "cell_type": "code",
   "execution_count": 1,
   "metadata": {},
   "outputs": [],
   "source": [
    "import re"
   ]
  },
  {
   "cell_type": "code",
   "execution_count": 4,
   "metadata": {},
   "outputs": [
    {
     "data": {
      "text/plain": [
       "<re.Match object; span=(0, 1), match='p'>"
      ]
     },
     "execution_count": 4,
     "metadata": {},
     "output_type": "execute_result"
    }
   ],
   "source": [
    "re.match(\"p\",\"python\")"
   ]
  },
  {
   "cell_type": "code",
   "execution_count": 5,
   "metadata": {},
   "outputs": [],
   "source": [
    "re.match(\"h\",\"python\")"
   ]
  },
  {
   "cell_type": "code",
   "execution_count": 8,
   "metadata": {},
   "outputs": [
    {
     "data": {
      "text/plain": [
       "<re.Match object; span=(3, 6), match='hon'>"
      ]
     },
     "execution_count": 8,
     "metadata": {},
     "output_type": "execute_result"
    }
   ],
   "source": [
    "re.search(\"hon\",\"python\")"
   ]
  },
  {
   "cell_type": "code",
   "execution_count": 7,
   "metadata": {},
   "outputs": [
    {
     "data": {
      "text/plain": [
       "<re.Match object; span=(1, 2), match='o'>"
      ]
     },
     "execution_count": 7,
     "metadata": {},
     "output_type": "execute_result"
    }
   ],
   "source": [
    "re.search(\"o\",\"book\")"
   ]
  },
  {
   "cell_type": "code",
   "execution_count": 9,
   "metadata": {},
   "outputs": [
    {
     "data": {
      "text/plain": [
       "['o', 'o']"
      ]
     },
     "execution_count": 9,
     "metadata": {},
     "output_type": "execute_result"
    }
   ],
   "source": [
    "re.findall(\"o\",\"book\")"
   ]
  },
  {
   "cell_type": "code",
   "execution_count": 12,
   "metadata": {},
   "outputs": [
    {
     "name": "stdout",
     "output_type": "stream",
     "text": [
      "enter a string Poojitha\n"
     ]
    },
    {
     "data": {
      "text/plain": [
       "False"
      ]
     },
     "execution_count": 12,
     "metadata": {},
     "output_type": "execute_result"
    }
   ],
   "source": [
    "#pattern = '^[A-Z][a-z]*[i]$'\n",
    "def Name(s):\n",
    "    pattern = '^[A-Z][a-z]*[i]$'\n",
    "    \n",
    "    if re.match(pattern,s):\n",
    "        return True\n",
    "    return False\n",
    "\n",
    "Name(input(\"enter a string \"))       "
   ]
  },
  {
   "cell_type": "markdown",
   "metadata": {},
   "source": [
    "#### Phone Number validation\n",
    "- 10 digits\n",
    "    - 6789012345\n",
    "    - digits are allowed\n",
    "    - count should be 10\n",
    "    - starts with a character from  6-9 and remaining 9 digits from 0-9\n",
    "    - ^[6-9][0-9]{9}\n",
    "- 11 digits\n",
    "    - 06789012345\n",
    "    - digits are allowed\n",
    "    - count should be 11\n",
    "    - starts with 0, followed by a character 6-9 and remaining 9 digits from 0-9\n",
    "    - ^[0][6-9][0-9]{9}\n",
    "- 12 digits\n",
    "    - +91 6789012345\n",
    "    - digits and + are allowed\n",
    "    - starts with +91 followed by a character from 6-9 and remaining 9 digits from 0-9\n",
    "    - ^[+][9][1][6-9][0-9]{9}"
   ]
  },
  {
   "cell_type": "code",
   "execution_count": 21,
   "metadata": {},
   "outputs": [
    {
     "name": "stdout",
     "output_type": "stream",
     "text": [
      "enter a string+916789023456\n"
     ]
    },
    {
     "data": {
      "text/plain": [
       "True"
      ]
     },
     "execution_count": 21,
     "metadata": {},
     "output_type": "execute_result"
    }
   ],
   "source": [
    "def phoneNumberValidation(s):\n",
    "    pattern = '^[6-9][0-9]{9}$|^[0][6-9][0-9]{9}$|^[+][9][1][6-9][0-9]{9}$'\n",
    "    if re.match(pattern,s):\n",
    "        return True\n",
    "    return False\n",
    "\n",
    "phoneNumberValidation(input(\"enter a string\"))       "
   ]
  },
  {
   "cell_type": "markdown",
   "metadata": {},
   "source": [
    "#### Email Validation\n",
    "- abcdef.g@gmail.com\n",
    "- Username\n",
    "    - abcdef.g\n",
    "    - alphabet,digits,.,_ are allowed\n",
    "    - no special characters are allowed\n",
    "    - minimum is 6 and maximum is 30\n",
    "    - ^[a-z0-9][a-z0-9.-]{4,28}[a-z0-9]\n",
    "- Domain\n",
    "    - gmail\n",
    "    - alphabet, digits are allowed\n",
    "    - no special characters are allowed\n",
    "    - minimum is 5 and maximum is 18\n",
    "    - [a-z0-9]{5,18}\n",
    "- Extension\n",
    "    - com\n",
    "    - alphabet are allowed\n",
    "    - digits and special characters are not allowed\n",
    "    - minimum is 2 and maximum is 5\n",
    "    - [a-z]{2,5}$"
   ]
  },
  {
   "cell_type": "code",
   "execution_count": 29,
   "metadata": {},
   "outputs": [
    {
     "name": "stdout",
     "output_type": "stream",
     "text": [
      "enter a stringabcdfghj@gmail.com\n"
     ]
    },
    {
     "data": {
      "text/plain": [
       "True"
      ]
     },
     "execution_count": 29,
     "metadata": {},
     "output_type": "execute_result"
    }
   ],
   "source": [
    "def emailValidation(s):\n",
    "    pattern = '^[a-z0-9][a-z0-9.-]{4,28}[a-z0-9][@][a-z0-9]{5,18}[.][a-z]{2,5}$'\n",
    "    if re.match(pattern,s):\n",
    "        return True\n",
    "    return False\n",
    "\n",
    "emailValidation(input(\"enter a string\"))       "
   ]
  },
  {
   "cell_type": "code",
   "execution_count": null,
   "metadata": {},
   "outputs": [],
   "source": []
  }
 ],
 "metadata": {
  "kernelspec": {
   "display_name": "Python 3",
   "language": "python",
   "name": "python3"
  },
  "language_info": {
   "codemirror_mode": {
    "name": "ipython",
    "version": 3
   },
   "file_extension": ".py",
   "mimetype": "text/x-python",
   "name": "python",
   "nbconvert_exporter": "python",
   "pygments_lexer": "ipython3",
   "version": "3.7.1"
  }
 },
 "nbformat": 4,
 "nbformat_minor": 2
}
