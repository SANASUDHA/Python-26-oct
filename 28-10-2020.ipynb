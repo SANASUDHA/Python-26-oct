{
 "cells": [
  {
   "cell_type": "markdown",
   "metadata": {},
   "source": [
    "## Conditional statements or Decision making statements\n",
    "\n",
    "- if..statements\n",
    "- if...else statements\n",
    "- if..elif statements\n",
    "- nested if statements\n"
   ]
  },
  {
   "cell_type": "markdown",
   "metadata": {},
   "source": [
    "- if syntax\n",
    "\n",
    " if conidtion:\n",
    "     statements"
   ]
  },
  {
   "cell_type": "code",
   "execution_count": 2,
   "metadata": {},
   "outputs": [
    {
     "name": "stdout",
     "output_type": "stream",
     "text": [
      "enter first number: 2\n",
      "enter second number: 4\n"
     ]
    }
   ],
   "source": [
    "## sum of the two numbers is greater than 10\n",
    "\n",
    "a = int(input('enter first number: '))\n",
    "b = int(input('enter second number: '))\n",
    "res = a+b\n",
    "if res>10:\n",
    "    print('sum is greater than 10')"
   ]
  },
  {
   "cell_type": "code",
   "execution_count": 3,
   "metadata": {},
   "outputs": [
    {
     "name": "stdout",
     "output_type": "stream",
     "text": [
      "9\n"
     ]
    }
   ],
   "source": [
    "n1 = 4\n",
    "n2 = 6\n",
    "print(n1+n2)"
   ]
  },
  {
   "cell_type": "code",
   "execution_count": 5,
   "metadata": {},
   "outputs": [
    {
     "name": "stdout",
     "output_type": "stream",
     "text": [
      "8\n",
      "6\n",
      "14\n"
     ]
    }
   ],
   "source": [
    "t = int(input())\n",
    "t1 = int(input())\n",
    "print(t+t1)"
   ]
  },
  {
   "cell_type": "code",
   "execution_count": null,
   "metadata": {},
   "outputs": [],
   "source": [
    "n = 5\n",
    "5%2 == 0\n",
    "\n",
    "   2)5(2\n",
    "     4\n",
    "    ----\n",
    "     1"
   ]
  },
  {
   "cell_type": "code",
   "execution_count": 7,
   "metadata": {},
   "outputs": [
    {
     "name": "stdout",
     "output_type": "stream",
     "text": [
      "8\n",
      "Even number\n"
     ]
    }
   ],
   "source": [
    "## check the given number is even\n",
    "\n",
    "n = int(input())\n",
    "if n%2 == 0:\n",
    "    print('Even number')\n",
    "    \n",
    "    "
   ]
  },
  {
   "cell_type": "code",
   "execution_count": 11,
   "metadata": {},
   "outputs": [
    {
     "name": "stdout",
     "output_type": "stream",
     "text": [
      "7\n",
      "Odd number\n"
     ]
    }
   ],
   "source": [
    "n = int(input())\n",
    "if n%2 != 0:\n",
    "    print('Odd number')\n",
    "    "
   ]
  },
  {
   "cell_type": "markdown",
   "metadata": {},
   "source": [
    "- if...else syntax\n",
    "\n",
    " if condition:\n",
    "     statements\n",
    " else:\n",
    "     statements\n",
    " "
   ]
  },
  {
   "cell_type": "code",
   "execution_count": 13,
   "metadata": {},
   "outputs": [
    {
     "name": "stdout",
     "output_type": "stream",
     "text": [
      "7\n",
      "Odd number\n"
     ]
    }
   ],
   "source": [
    "### even or odd conditions\n",
    "\n",
    "t = int(input())\n",
    "if t%2 == 0:\n",
    "    print('Even number')\n",
    "else:\n",
    "    print('Odd number')"
   ]
  },
  {
   "cell_type": "code",
   "execution_count": 14,
   "metadata": {},
   "outputs": [
    {
     "name": "stdout",
     "output_type": "stream",
     "text": [
      "6\n",
      "Existed\n"
     ]
    }
   ],
   "source": [
    "### Number existed or not\n",
    "## 5\n",
    "## 1 -- 10\n",
    "\n",
    "s = int(input())\n",
    "if s>=1 and s<=10:  ## 6>=1 and 6<=10\n",
    "    print('Existed') \n",
    "else:\n",
    "    print('Not existed')\n",
    "    \n"
   ]
  },
  {
   "cell_type": "code",
   "execution_count": 16,
   "metadata": {},
   "outputs": [
    {
     "name": "stdout",
     "output_type": "stream",
     "text": [
      "enter number8\n",
      "enter another number12\n",
      "12 is big number\n"
     ]
    }
   ],
   "source": [
    "## check the given number is big or not\n",
    "\n",
    "x = int(input('enter number'))\n",
    "y = int(input('enter another number'))\n",
    "if x>y:\n",
    "    print(x,'is big number')\n",
    "else:\n",
    "    print(y,'is big number')\n",
    "    \n",
    "    "
   ]
  },
  {
   "cell_type": "markdown",
   "metadata": {},
   "source": [
    "- if...elif syntax\n",
    "\n",
    "if condition:\n",
    "    statements\n",
    "elif condition:\n",
    "    statements\n",
    "elif condition:\n",
    "    statements\n",
    "    \n",
    "    --\n",
    "    --\n",
    "    --\n",
    "else:\n",
    "    statements\n",
    "    "
   ]
  },
  {
   "cell_type": "code",
   "execution_count": 18,
   "metadata": {},
   "outputs": [
    {
     "name": "stdout",
     "output_type": "stream",
     "text": [
      "enter number: 8\n",
      "enter another number: 6\n",
      "enter character: $\n",
      "Invalid input\n"
     ]
    }
   ],
   "source": [
    "## Mathematical operations\n",
    "\n",
    "a = int(input('enter number: '))\n",
    "b = int(input('enter another number: '))\n",
    "op = input('enter character: ')\n",
    "\n",
    "if op == '+':\n",
    "    print(a+b)\n",
    "elif op == '-':\n",
    "    print(a-b)\n",
    "elif op == '*':\n",
    "    print(a*b)\n",
    "elif op == '%':\n",
    "    print(a%b)\n",
    "else:\n",
    "    print('Invalid input')\n",
    "    "
   ]
  },
  {
   "cell_type": "code",
   "execution_count": 19,
   "metadata": {},
   "outputs": [
    {
     "name": "stdout",
     "output_type": "stream",
     "text": [
      "7\n",
      "Seven\n"
     ]
    }
   ],
   "source": [
    "## number spelling\n",
    "## 3 -- Three\n",
    "## 5 -- Five\n",
    "\n",
    "u = int(input())\n",
    "if u == 0:\n",
    "    print('Zero')\n",
    "elif u == 1:\n",
    "    print('One')\n",
    "elif u == 2:\n",
    "    print('Two')\n",
    "elif u == 3:\n",
    "    print('Three')\n",
    "elif u == 4:\n",
    "    print('Four')\n",
    "elif u == 5:\n",
    "    print('Five')\n",
    "elif u == 6:\n",
    "    print('Six')\n",
    "elif u == 7:\n",
    "    print('Seven')\n",
    "elif u == 8:\n",
    "    print('9')\n",
    "else:\n",
    "    print('Wrong input')\n",
    "    \n",
    "\n",
    "\n"
   ]
  },
  {
   "cell_type": "code",
   "execution_count": null,
   "metadata": {},
   "outputs": [],
   "source": [
    "1 - sunday\n",
    "2 - monday\n",
    "3 - tuesday\n",
    "--\n",
    "7 - saturday\n"
   ]
  },
  {
   "cell_type": "code",
   "execution_count": null,
   "metadata": {},
   "outputs": [],
   "source": [
    "1 -- January\n",
    "2 -- February\n",
    "-- \n",
    "12 -- December\n"
   ]
  },
  {
   "cell_type": "code",
   "execution_count": 21,
   "metadata": {},
   "outputs": [
    {
     "name": "stdout",
     "output_type": "stream",
     "text": [
      "12\n",
      "10\n",
      "5\n",
      "12 is big number\n"
     ]
    }
   ],
   "source": [
    "## check big number in three numbers\n",
    "## 12 14 17\n",
    "## 12>14 12>17 14>12 14>17  17 is big\n",
    "\n",
    "x = int(input())\n",
    "y = int(input())\n",
    "z = int(input())\n",
    "if x>y and x>z:\n",
    "    print(x,'is big number')\n",
    "elif y>x and y>z:\n",
    "    print(y,'is big number')\n",
    "else:\n",
    "    print(z,'is big number')\n"
   ]
  },
  {
   "cell_type": "markdown",
   "metadata": {},
   "source": [
    "- nested if.else syntax\n",
    "\n",
    " if condition:\n",
    "     statements\n",
    "     if condition:\n",
    "         statements\n",
    "     else:\n",
    "         statements\n",
    "else:\n",
    "    statements\n",
    "    "
   ]
  },
  {
   "cell_type": "code",
   "execution_count": null,
   "metadata": {},
   "outputs": [],
   "source": [
    "## user login\n",
    "## mail id\n",
    "    ## invalid user name\n",
    "## password\n",
    "    ## wrong password"
   ]
  },
  {
   "cell_type": "code",
   "execution_count": null,
   "metadata": {},
   "outputs": [],
   "source": [
    "\n",
    "user names: 1 -- 25\n",
    "    invalid user id\n",
    "password: 12345\n",
    "    wrong password\n",
    "    \n",
    "    \n",
    "    \n"
   ]
  },
  {
   "cell_type": "code",
   "execution_count": 24,
   "metadata": {},
   "outputs": [
    {
     "name": "stdout",
     "output_type": "stream",
     "text": [
      "enter user name: 12\n",
      "enter password: 2353456567\n",
      "Wrong password\n"
     ]
    }
   ],
   "source": [
    "\n",
    "u_n = int(input('enter user name: '))\n",
    "if u_n>=1 and u_n<=25:\n",
    "    pw = int(input('enter password: '))\n",
    "    if pw == 12345:\n",
    "        print('U r successfully entered')\n",
    "    else:\n",
    "        print('Wrong password')\n",
    "else:\n",
    "    print('Invalid username')\n",
    "        "
   ]
  },
  {
   "cell_type": "code",
   "execution_count": 25,
   "metadata": {},
   "outputs": [
    {
     "ename": "SyntaxError",
     "evalue": "invalid syntax (<ipython-input-25-d73eeb4a96f1>, line 1)",
     "output_type": "error",
     "traceback": [
      "\u001b[1;36m  File \u001b[1;32m\"<ipython-input-25-d73eeb4a96f1>\"\u001b[1;36m, line \u001b[1;32m1\u001b[0m\n\u001b[1;33m    && || !\u001b[0m\n\u001b[1;37m    ^\u001b[0m\n\u001b[1;31mSyntaxError\u001b[0m\u001b[1;31m:\u001b[0m invalid syntax\n"
     ]
    }
   ],
   "source": [
    "&& || ! \n",
    "\n",
    "?:"
   ]
  },
  {
   "cell_type": "markdown",
   "metadata": {},
   "source": [
    "### Tasks"
   ]
  },
  {
   "cell_type": "markdown",
   "metadata": {},
   "source": [
    "- 1. Positive or Negative\n",
    "\n",
    "- 2. Days printing\n",
    "\n",
    "- 3. \n",
    "    - Child (0-12 years)\n",
    "    - Teenager (13-19 years)\n",
    "    - Adult (20- 59 years) \n",
    "    - Senior Adult(60 years and above)\n",
    "    \n",
    "- 4. Check the given character is Vowel or Consonant\n",
    "\n",
    "- 5. \n",
    "    - input even or odd\n",
    "        - even > 10\n",
    "            - input**2\n",
    "    - odd \n",
    "    \n",
    "\n",
    "    \n",
    "   "
   ]
  }
 ],
 "metadata": {
  "kernelspec": {
   "display_name": "Python 3",
   "language": "python",
   "name": "python3"
  },
  "language_info": {
   "codemirror_mode": {
    "name": "ipython",
    "version": 3
   },
   "file_extension": ".py",
   "mimetype": "text/x-python",
   "name": "python",
   "nbconvert_exporter": "python",
   "pygments_lexer": "ipython3",
   "version": "3.8.3"
  }
 },
 "nbformat": 4,
 "nbformat_minor": 4
}
