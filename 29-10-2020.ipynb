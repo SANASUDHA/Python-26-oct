{
 "cells": [
  {
   "cell_type": "markdown",
   "metadata": {},
   "source": [
    "## Loops or Control Statements or Iterations\n",
    "\n",
    "- Loop: It is a sequence of instructions they are repeating as long as the condition false\n",
    "- for loop\n",
    "- while loop\n",
    "- nested for loop\n",
    "- nested while loop\n",
    "\n",
    "\n"
   ]
  },
  {
   "cell_type": "markdown",
   "metadata": {},
   "source": [
    "- for loop\n",
    "     - which is used to iterate or repeated particular task or statements into multiple times\n",
    "     - range is known\n",
    "     - for loop Syntax\n",
    "         - for variable in a range(start, end, step):\n",
    "               statements\n",
    "         \n",
    "         - for(initi,condition,inc/dec) C language\n"
   ]
  },
  {
   "cell_type": "markdown",
   "metadata": {},
   "source": [
    "- range(start, end, step)\n",
    "\n",
    "- range(argument)\n",
    "    - 0 start and step =1\n",
    "- range(arg1,arg2)\n",
    "    - arg1 = start and arg2 = end\n",
    "- range(arg1,arg2,arg3)\n",
    "    - arg1 = start, arg2 = end and arg3 = step"
   ]
  },
  {
   "cell_type": "code",
   "execution_count": 2,
   "metadata": {},
   "outputs": [
    {
     "name": "stdout",
     "output_type": "stream",
     "text": [
      "0\n",
      "1\n",
      "2\n",
      "3\n",
      "4\n",
      "5\n",
      "6\n",
      "7\n",
      "8\n"
     ]
    }
   ],
   "source": [
    "for i in range(9):\n",
    "    print(i)"
   ]
  },
  {
   "cell_type": "code",
   "execution_count": 3,
   "metadata": {},
   "outputs": [
    {
     "name": "stdout",
     "output_type": "stream",
     "text": [
      "1\n",
      "2\n",
      "3\n",
      "4\n",
      "5\n",
      "6\n",
      "7\n",
      "8\n",
      "9\n"
     ]
    }
   ],
   "source": [
    "for i in range(1,10):\n",
    "    print(i)"
   ]
  },
  {
   "cell_type": "code",
   "execution_count": 4,
   "metadata": {},
   "outputs": [
    {
     "name": "stdout",
     "output_type": "stream",
     "text": [
      "1\n",
      "3\n",
      "5\n",
      "7\n",
      "9\n",
      "11\n",
      "13\n",
      "15\n",
      "17\n",
      "19\n"
     ]
    }
   ],
   "source": [
    "for i in range(1,20,2):\n",
    "    print(i)"
   ]
  },
  {
   "cell_type": "code",
   "execution_count": 7,
   "metadata": {},
   "outputs": [
    {
     "name": "stdout",
     "output_type": "stream",
     "text": [
      "1 2 3 4 5 6 7 8 9 10 "
     ]
    }
   ],
   "source": [
    "for j in range(1,11):\n",
    "    print(j, end = ' ')"
   ]
  },
  {
   "cell_type": "code",
   "execution_count": 8,
   "metadata": {},
   "outputs": [
    {
     "name": "stdout",
     "output_type": "stream",
     "text": [
      "10 9 8 7 6 5 4 3 2 1 "
     ]
    }
   ],
   "source": [
    "for k in range(10,0,-1):\n",
    "    print(k,end=' ')"
   ]
  },
  {
   "cell_type": "code",
   "execution_count": 18,
   "metadata": {},
   "outputs": [
    {
     "name": "stdout",
     "output_type": "stream",
     "text": [
      "1\n",
      "10\n",
      "Even numbers are: \n",
      "2 4 6 8 10 \n",
      "even sum is : 30\n",
      "\n",
      "Odd numbers are: \n",
      "1 3 5 7 9 \n",
      "Odd sum is: 25\n"
     ]
    }
   ],
   "source": [
    "## print even numbers and odd number in a given range\n",
    "\n",
    "sr = int(input())\n",
    "er = int(input())\n",
    "e_sum = o_sum = 0\n",
    "print('Even numbers are: ')\n",
    "for i in range(sr,er+1):\n",
    "    if i % 2 == 0:\n",
    "        print(i,end=' ')\n",
    "        e_sum = e_sum + i \n",
    "print('\\neven sum is :',e_sum)\n",
    "print('\\nOdd numbers are: ')\n",
    "for i in range(sr,er+1):\n",
    "    if i % 2 != 0:\n",
    "        print(i,end=' ')\n",
    "        o_sum += i ## o_sum = o_sum+i\n",
    "print('\\nOdd sum is:',o_sum)\n",
    "        \n",
    "    \n",
    "        \n",
    "    \n",
    "    "
   ]
  },
  {
   "cell_type": "code",
   "execution_count": null,
   "metadata": {},
   "outputs": [],
   "source": [
    "## table\n",
    "## 4 * 1 = 4\n",
    "## 4 * 2 = 8\n",
    "## 4 * 3 = 12\n",
    "## 4 * 4 = 16\n",
    "--\n",
    "--\n",
    "## 4 * 10 = 40"
   ]
  },
  {
   "cell_type": "code",
   "execution_count": 20,
   "metadata": {},
   "outputs": [
    {
     "name": "stdout",
     "output_type": "stream",
     "text": [
      "89\n",
      "89 * 1 = 89\n",
      "89 * 2 = 178\n",
      "89 * 3 = 267\n",
      "89 * 4 = 356\n",
      "89 * 5 = 445\n",
      "89 * 6 = 534\n",
      "89 * 7 = 623\n",
      "89 * 8 = 712\n",
      "89 * 9 = 801\n",
      "89 * 10 = 890\n"
     ]
    }
   ],
   "source": [
    "n = int(input())\n",
    "for i in range(1,11):\n",
    "    print(n,'*',i,'=',n*i)"
   ]
  },
  {
   "cell_type": "code",
   "execution_count": 23,
   "metadata": {},
   "outputs": [
    {
     "name": "stdout",
     "output_type": "stream",
     "text": [
      "enter number:25\n",
      "1 5 "
     ]
    }
   ],
   "source": [
    "### factors for given number\n",
    "\n",
    "n = int(input('enter number:'))\n",
    "for i in range(1,n+1):\n",
    "    if n %i == 0:\n",
    "        print(i,end = ' ')\n",
    "        \n"
   ]
  },
  {
   "cell_type": "code",
   "execution_count": 25,
   "metadata": {},
   "outputs": [
    {
     "name": "stdout",
     "output_type": "stream",
     "text": [
      "4\n",
      "Factorial is: 24\n"
     ]
    }
   ],
   "source": [
    "## factorial\n",
    "\n",
    "y = int(input())\n",
    "f = 1\n",
    "for i in range(1,y+1):\n",
    "    f = f*i\n",
    "print('Factorial is:',f)\n",
    "    "
   ]
  },
  {
   "cell_type": "code",
   "execution_count": 28,
   "metadata": {},
   "outputs": [
    {
     "name": "stdout",
     "output_type": "stream",
     "text": [
      "5\n",
      "It is a Prime number\n"
     ]
    }
   ],
   "source": [
    "## Prime number\n",
    "\n",
    "t = int(input())\n",
    "fc = 0\n",
    "for i in range(1,t+1):\n",
    "    if t % i == 0:\n",
    "        fc += 1 ## fc = fc+1\n",
    "if fc == 2:\n",
    "    print(\"It is a Prime number\")\n",
    "else:\n",
    "    print('It is not Prime number')\n",
    "    "
   ]
  },
  {
   "cell_type": "code",
   "execution_count": 31,
   "metadata": {},
   "outputs": [
    {
     "name": "stdout",
     "output_type": "stream",
     "text": [
      "28\n",
      "Perfect\n"
     ]
    }
   ],
   "source": [
    "## Perfect number\n",
    "\n",
    "\n",
    "f = int(input())\n",
    "f_sum = 0\n",
    "for j in range(1,f):\n",
    "    if f%j == 0:\n",
    "        f_sum += j\n",
    "if f_sum == f:\n",
    "    print('Perfect')\n",
    "else:\n",
    "    print('Not perfect')\n",
    "    \n",
    "        "
   ]
  },
  {
   "cell_type": "markdown",
   "metadata": {},
   "source": [
    "## While loop\n",
    "\n",
    "- Which is used to iterate particular task or statements into multiple times\n",
    "- range is unknown\n",
    "\n",
    "- while loop Syntax\n",
    "\n",
    "   initialization\n",
    "   while(condition):\n",
    "       statements\n",
    "       inc/dec\n",
    "       "
   ]
  },
  {
   "cell_type": "code",
   "execution_count": 33,
   "metadata": {},
   "outputs": [
    {
     "name": "stdout",
     "output_type": "stream",
     "text": [
      "1 2 3 4 5 6 7 8 9 10 "
     ]
    }
   ],
   "source": [
    "## 1-- 10\n",
    "\n",
    "i = 1\n",
    "while(i<=10):\n",
    "    print(i,end=' ')\n",
    "    i = i+1 "
   ]
  },
  {
   "cell_type": "code",
   "execution_count": 34,
   "metadata": {},
   "outputs": [
    {
     "name": "stdout",
     "output_type": "stream",
     "text": [
      "10 9 8 7 6 5 4 3 2 1 "
     ]
    }
   ],
   "source": [
    "i = 10\n",
    "while(i>=1):\n",
    "    print(i,end=' ')\n",
    "    i = i-1"
   ]
  },
  {
   "cell_type": "code",
   "execution_count": 48,
   "metadata": {},
   "outputs": [
    {
     "name": "stdout",
     "output_type": "stream",
     "text": [
      "3457324875\n",
      "10\n"
     ]
    }
   ],
   "source": [
    "## Number of digits in a given number \n",
    "## 123\n",
    "## 3\n",
    "\n",
    "h = int(input())\n",
    "c = 0\n",
    "while h!=0:\n",
    "    h = h//10\n",
    "    c += 1\n",
    "print(c)\n"
   ]
  },
  {
   "cell_type": "code",
   "execution_count": 38,
   "metadata": {},
   "outputs": [],
   "source": [
    "a = 45\n",
    "b = 6\n"
   ]
  },
  {
   "cell_type": "code",
   "execution_count": 39,
   "metadata": {},
   "outputs": [
    {
     "data": {
      "text/plain": [
       "7.5"
      ]
     },
     "execution_count": 39,
     "metadata": {},
     "output_type": "execute_result"
    }
   ],
   "source": [
    "a/b"
   ]
  },
  {
   "cell_type": "code",
   "execution_count": 40,
   "metadata": {},
   "outputs": [
    {
     "data": {
      "text/plain": [
       "7"
      ]
     },
     "execution_count": 40,
     "metadata": {},
     "output_type": "execute_result"
    }
   ],
   "source": [
    "a//b"
   ]
  },
  {
   "cell_type": "code",
   "execution_count": 41,
   "metadata": {},
   "outputs": [
    {
     "data": {
      "text/plain": [
       "3"
      ]
     },
     "execution_count": 41,
     "metadata": {},
     "output_type": "execute_result"
    }
   ],
   "source": [
    "a%b"
   ]
  },
  {
   "cell_type": "code",
   "execution_count": 42,
   "metadata": {},
   "outputs": [
    {
     "data": {
      "text/plain": [
       "12"
      ]
     },
     "execution_count": 42,
     "metadata": {},
     "output_type": "execute_result"
    }
   ],
   "source": [
    "123//10"
   ]
  },
  {
   "cell_type": "code",
   "execution_count": 43,
   "metadata": {},
   "outputs": [
    {
     "data": {
      "text/plain": [
       "1"
      ]
     },
     "execution_count": 43,
     "metadata": {},
     "output_type": "execute_result"
    }
   ],
   "source": [
    "12//10"
   ]
  },
  {
   "cell_type": "code",
   "execution_count": 46,
   "metadata": {},
   "outputs": [
    {
     "data": {
      "text/plain": [
       "0"
      ]
     },
     "execution_count": 46,
     "metadata": {},
     "output_type": "execute_result"
    }
   ],
   "source": [
    "1//10"
   ]
  },
  {
   "cell_type": "code",
   "execution_count": 51,
   "metadata": {},
   "outputs": [
    {
     "name": "stdout",
     "output_type": "stream",
     "text": [
      "apssdc\n",
      "6\n"
     ]
    }
   ],
   "source": [
    "## Number of character in a given name\n",
    "\n",
    "s = input()\n",
    "c = 0\n",
    "for i in s:\n",
    "    c = c+1\n",
    "print(c)"
   ]
  },
  {
   "cell_type": "code",
   "execution_count": 53,
   "metadata": {},
   "outputs": [
    {
     "name": "stdout",
     "output_type": "stream",
     "text": [
      "Srinadh\n"
     ]
    },
    {
     "data": {
      "text/plain": [
       "7"
      ]
     },
     "execution_count": 53,
     "metadata": {},
     "output_type": "execute_result"
    }
   ],
   "source": [
    "r = input()\n",
    "len(r)"
   ]
  },
  {
   "cell_type": "code",
   "execution_count": 55,
   "metadata": {},
   "outputs": [
    {
     "name": "stdout",
     "output_type": "stream",
     "text": [
      "9984352\n",
      "2534899\n"
     ]
    }
   ],
   "source": [
    "## Reverse of the given number\n",
    "## input: 123\n",
    "## outpu: 321\n",
    "\n",
    "n = int(input())\n",
    "rev = 0\n",
    "while n!=0:\n",
    "    rem = n%10\n",
    "    rev = rev*10+rem\n",
    "    n = n//10\n",
    "print(rev)\n",
    "    \n"
   ]
  },
  {
   "cell_type": "code",
   "execution_count": 57,
   "metadata": {},
   "outputs": [
    {
     "name": "stdout",
     "output_type": "stream",
     "text": [
      "123\n",
      "Not Palindrom\n"
     ]
    }
   ],
   "source": [
    "### Palindrom\n",
    "## 121\n",
    "## 121\n",
    "\n",
    "n = int(input())\n",
    "t = n\n",
    "rev = 0\n",
    "while n!=0:\n",
    "    rem = n%10\n",
    "    rev = rev*10+rem\n",
    "    n = n//10\n",
    "if t == rev:\n",
    "    print('Palindrom')\n",
    "else:\n",
    "    print('Not Palindrom')"
   ]
  },
  {
   "cell_type": "markdown",
   "metadata": {},
   "source": [
    "## Task\n",
    "\n",
    "- Armstrong\n"
   ]
  },
  {
   "cell_type": "markdown",
   "metadata": {},
   "source": [
    "## nested for loop\n",
    "\n",
    "- Syntax:\n",
    "\n",
    " for variable in range(start,end,step):\n",
    "     for variable in range(start, end, step):\n",
    "         statements"
   ]
  },
  {
   "cell_type": "code",
   "execution_count": 59,
   "metadata": {},
   "outputs": [
    {
     "name": "stdout",
     "output_type": "stream",
     "text": [
      "4\n",
      "23\n",
      "5 7 11 13 17 19 23 "
     ]
    }
   ],
   "source": [
    "## Prime number series\n",
    "## 1  -- 10\n",
    "## 2 3 5 7\n",
    "\n",
    "s = int(input())\n",
    "e = int(input())\n",
    "for i in range(s,e+1):\n",
    "    fc = 0\n",
    "    for j in range(1,i+1):\n",
    "        if i%j == 0:\n",
    "            fc += 1\n",
    "    if fc == 2:\n",
    "        print(i,end=' ')\n",
    "        \n",
    "        \n",
    "    \n",
    "\n"
   ]
  },
  {
   "cell_type": "markdown",
   "metadata": {},
   "source": [
    "- Task\n",
    "    - Print perfects series"
   ]
  },
  {
   "cell_type": "code",
   "execution_count": null,
   "metadata": {},
   "outputs": [],
   "source": [
    "Square pattern\n",
    "\n",
    "# # # #\n",
    "# # # #\n",
    "# # # #\n",
    "# # # #\n"
   ]
  },
  {
   "cell_type": "code",
   "execution_count": 62,
   "metadata": {},
   "outputs": [
    {
     "name": "stdout",
     "output_type": "stream",
     "text": [
      "# # # # \n",
      "# # # # \n",
      "# # # # \n",
      "# # # # \n"
     ]
    }
   ],
   "source": [
    "for i in range(1,5):\n",
    "    for j in range(1,5):\n",
    "        print('#',end=' ')\n",
    "    print()\n",
    "        "
   ]
  },
  {
   "cell_type": "code",
   "execution_count": null,
   "metadata": {},
   "outputs": [],
   "source": [
    "11 12 13 14\n",
    "21 22 23 24\n",
    "31 32 33 34\n",
    "41 42 43 44\n"
   ]
  },
  {
   "cell_type": "markdown",
   "metadata": {},
   "source": [
    "### nested while\n",
    "\n",
    "- Syntax:\n",
    "   \n",
    "   initialization\n",
    "   while(condition):\n",
    "       statements \n",
    "       initialization\n",
    "       while(condition):\n",
    "           stattements\n",
    "           inc/dec\n",
    "       inc/dec"
   ]
  },
  {
   "cell_type": "code",
   "execution_count": 63,
   "metadata": {},
   "outputs": [
    {
     "name": "stdout",
     "output_type": "stream",
     "text": [
      "1 2 3 4 5 6 7 8 9 10 \n",
      "2 4 6 8 10 12 14 16 18 20 \n",
      "3 6 9 12 15 18 21 24 27 30 \n",
      "4 8 12 16 20 24 28 32 36 40 \n",
      "5 10 15 20 25 30 35 40 45 50 \n",
      "6 12 18 24 30 36 42 48 54 60 \n",
      "7 14 21 28 35 42 49 56 63 70 \n",
      "8 16 24 32 40 48 56 64 72 80 \n",
      "9 18 27 36 45 54 63 72 81 90 \n",
      "10 20 30 40 50 60 70 80 90 100 \n"
     ]
    }
   ],
   "source": [
    "## print 1 to 10 tables\n",
    "## 1 2 3 4 5\n",
    "## 2 4 6 8 10\n",
    "\n",
    "i = 1\n",
    "while(i<=10):\n",
    "    j = 1\n",
    "    while(j<=10):\n",
    "        print(i*j,end=' ')\n",
    "        j += 1\n",
    "    print()\n",
    "    i +=1"
   ]
  },
  {
   "cell_type": "code",
   "execution_count": null,
   "metadata": {},
   "outputs": [],
   "source": []
  },
  {
   "cell_type": "code",
   "execution_count": null,
   "metadata": {},
   "outputs": [],
   "source": []
  },
  {
   "cell_type": "code",
   "execution_count": null,
   "metadata": {},
   "outputs": [],
   "source": []
  },
  {
   "cell_type": "code",
   "execution_count": null,
   "metadata": {},
   "outputs": [],
   "source": []
  },
  {
   "cell_type": "code",
   "execution_count": null,
   "metadata": {},
   "outputs": [],
   "source": []
  },
  {
   "cell_type": "code",
   "execution_count": null,
   "metadata": {},
   "outputs": [],
   "source": []
  },
  {
   "cell_type": "markdown",
   "metadata": {},
   "source": [
    "## Jump Statements\n",
    "\n",
    "- Break\n",
    "    - it will skip all iterations when the control reaches the break\n",
    "- Continue\n",
    "    - it skips only current iteration\n"
   ]
  },
  {
   "cell_type": "code",
   "execution_count": 66,
   "metadata": {},
   "outputs": [
    {
     "name": "stdout",
     "output_type": "stream",
     "text": [
      "0\n",
      "1\n",
      "2\n",
      "3\n",
      "4\n"
     ]
    }
   ],
   "source": [
    "for i in range(9):\n",
    "    if i == 5:\n",
    "        break\n",
    "    else:\n",
    "        print(i)"
   ]
  },
  {
   "cell_type": "code",
   "execution_count": 67,
   "metadata": {},
   "outputs": [
    {
     "name": "stdout",
     "output_type": "stream",
     "text": [
      "0\n",
      "1\n",
      "2\n",
      "3\n",
      "4\n",
      "6\n",
      "7\n",
      "8\n"
     ]
    }
   ],
   "source": [
    "for i in range(9):\n",
    "    if i == 5:\n",
    "        continue\n",
    "    else:\n",
    "        print(i)"
   ]
  },
  {
   "cell_type": "code",
   "execution_count": null,
   "metadata": {},
   "outputs": [],
   "source": []
  }
 ],
 "metadata": {
  "kernelspec": {
   "display_name": "Python 3",
   "language": "python",
   "name": "python3"
  },
  "language_info": {
   "codemirror_mode": {
    "name": "ipython",
    "version": 3
   },
   "file_extension": ".py",
   "mimetype": "text/x-python",
   "name": "python",
   "nbconvert_exporter": "python",
   "pygments_lexer": "ipython3",
   "version": "3.8.3"
  }
 },
 "nbformat": 4,
 "nbformat_minor": 4
}
