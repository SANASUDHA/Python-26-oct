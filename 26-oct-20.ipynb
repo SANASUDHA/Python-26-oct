{
 "cells": [
  {
   "cell_type": "markdown",
   "metadata": {},
   "source": [
    "# Python Introduction\n",
    "## What is python\n",
    "### Why python become popular\n",
    "#### who uses python\n",
    "##### Advantages of python\n",
    "###### Applications of python"
   ]
  },
  {
   "cell_type": "markdown",
   "metadata": {},
   "source": [
    "###### what is Python\n",
    "- python is a High level programming language. It was created by Guido Van Rossum"
   ]
  },
  {
   "cell_type": "markdown",
   "metadata": {},
   "source": [
    "### Advantages of python\n",
    "- Data science Library\n",
    "- Embeddable\n",
    "- IOT oppertunities\n",
    "- Object-Oriented\n",
    "- Extensible\n",
    "- Improved productivity\n",
    "- Readable\n",
    "- Portable,Free and open-source"
   ]
  },
  {
   "cell_type": "markdown",
   "metadata": {},
   "source": [
    "### Applications of python\n",
    ">1.Gui based desktop applications\n",
    " - **image processing**\n",
    " - *graphic design applications*\n",
    " - ***scientific and computational***\n",
    " - games\n",
    " \n",
    "> 2.web framesworks and wen apps\n",
    "\n",
    "> 3.enterprise and business apps"
   ]
  },
  {
   "cell_type": "markdown",
   "metadata": {},
   "source": []
  }
 ],
 "metadata": {
  "kernelspec": {
   "display_name": "Python 3",
   "language": "python",
   "name": "python3"
  },
  "language_info": {
   "codemirror_mode": {
    "name": "ipython",
    "version": 3
   },
   "file_extension": ".py",
   "mimetype": "text/x-python",
   "name": "python",
   "nbconvert_exporter": "python",
   "pygments_lexer": "ipython3",
   "version": "3.7.6"
  }
 },
 "nbformat": 4,
 "nbformat_minor": 4
}
