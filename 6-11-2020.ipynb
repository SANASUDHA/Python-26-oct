{
 "cells": [
  {
   "cell_type": "markdown",
   "metadata": {},
   "source": [
    "## File handling\n",
    "\n",
    "- What is file\n",
    "- What is File handling\n",
    "- File methods\n",
    "- Different Modes\n",
    "- File Processing using methods\n",
    "- Use of 'with' statement\n"
   ]
  },
  {
   "cell_type": "markdown",
   "metadata": {},
   "source": [
    "- File\n",
    "    - File is a named location on disk used to store related information\n",
    "    - ex: word documents, .mp4, .mp3, .txt, .ipynb, .py, .pdf etc\n",
    "- File handling\n",
    "    - read files\n",
    "    - write files\n",
    "    - create files\n",
    "    - by using methods\n",
    "- File Methods\n",
    "    - Create \n",
    "    - open\n",
    "        - Syntax: open(filename, mode) \n",
    "    - close\n",
    "        - Syntax: close()\n",
    "    - read\n",
    "        - Syntax: read(Size)  ## size = int\n",
    "        - read()\n",
    "    - readlines\n",
    "        - Syntax: readlines(filename,mode)\n",
    "- Different modes\n",
    "    - open(filename, 'w')\n",
    "    - open(filename,'r')\n",
    "    - open(filename, 'a')\n",
    "    - open(filename, 'a+')\n",
    "    - open(filename, 'w+')\n",
    "- Use with statement\n",
    "    - The best way to close a file by using with statements\n",
    "    - Syntax: with open('filename','mode') as file_obj:\n",
    "    \n",
    "        \n",
    "    "
   ]
  },
  {
   "cell_type": "code",
   "execution_count": 9,
   "metadata": {},
   "outputs": [
    {
     "name": "stdout",
     "output_type": "stream",
     "text": [
      "Opened Succussfully\n"
     ]
    }
   ],
   "source": [
    "f = open('APSSDC.txt','r')\n",
    "if f:\n",
    "    print('Opened Succussfully')\n",
    "f.close()\n"
   ]
  },
  {
   "cell_type": "code",
   "execution_count": 10,
   "metadata": {},
   "outputs": [
    {
     "name": "stdout",
     "output_type": "stream",
     "text": [
      "Good evening everyone.. Today's topic is File handling\n",
      "Thank you...\n"
     ]
    }
   ],
   "source": [
    "## printing data from file \n",
    "\n",
    "f = open('APSSDC.txt')\n",
    "data = f.read()\n",
    "print(data)\n",
    "f.close()"
   ]
  },
  {
   "cell_type": "markdown",
   "metadata": {},
   "source": [
    "### File Objective methods\n",
    "\n",
    "    - seek()\n",
    "        - Used to change the cursor position\n",
    "        - Syntax: file_obj.seek(size)\n",
    "    - tell()\n",
    "        - Used to know the cursor position\n",
    "        - Syntax: file_obj.tell()"
   ]
  },
  {
   "cell_type": "code",
   "execution_count": 15,
   "metadata": {},
   "outputs": [
    {
     "name": "stdout",
     "output_type": "stream",
     "text": [
      "10\n",
      "15\n"
     ]
    }
   ],
   "source": [
    "\n",
    "f = open('APSSDC.txt')\n",
    "data = f.read(10)\n",
    "print(f.tell())\n",
    "f.seek(15)\n",
    "print(f.tell())\n",
    "f.close()\n"
   ]
  },
  {
   "cell_type": "code",
   "execution_count": 16,
   "metadata": {},
   "outputs": [],
   "source": [
    "a = open('Nandini.txt','w')\n"
   ]
  },
  {
   "cell_type": "code",
   "execution_count": 26,
   "metadata": {},
   "outputs": [
    {
     "name": "stdout",
     "output_type": "stream",
     "text": [
      "Good evening all\n"
     ]
    }
   ],
   "source": [
    "with open('APSSDC.txt') as f:\n",
    "    data = f.read()\n",
    "    print(data)\n",
    "    "
   ]
  },
  {
   "cell_type": "code",
   "execution_count": 27,
   "metadata": {},
   "outputs": [],
   "source": [
    "with open('APSSDC.txt','w') as f:\n",
    "    f.write('\\nWelcome to today session')"
   ]
  },
  {
   "cell_type": "code",
   "execution_count": 28,
   "metadata": {},
   "outputs": [],
   "source": [
    "with open('APSSDC.txt','a') as f:\n",
    "    f.write('\\nThank you')"
   ]
  },
  {
   "cell_type": "code",
   "execution_count": 29,
   "metadata": {},
   "outputs": [],
   "source": [
    "with open('APSSDC.txt','w') as f:\n",
    "    f.write('\\nStat safe')"
   ]
  },
  {
   "cell_type": "code",
   "execution_count": 31,
   "metadata": {},
   "outputs": [
    {
     "name": "stdout",
     "output_type": "stream",
     "text": [
      "\n",
      "Stay safe\n"
     ]
    }
   ],
   "source": [
    "def readFile(filename):\n",
    "    with open(filename) as f:\n",
    "        data = f.read()\n",
    "    return data\n",
    "print(readFile('APSSDC.txt'))\n",
    "    "
   ]
  },
  {
   "cell_type": "code",
   "execution_count": 37,
   "metadata": {},
   "outputs": [
    {
     "name": "stdout",
     "output_type": "stream",
     "text": [
      "4\n"
     ]
    }
   ],
   "source": [
    "def readLines(filename):\n",
    "    return len(readFile(filename).split('\\n'))\n",
    "print(readLines('APSSDC.txt'))"
   ]
  },
  {
   "cell_type": "code",
   "execution_count": 41,
   "metadata": {},
   "outputs": [
    {
     "name": "stdout",
     "output_type": "stream",
     "text": [
      "['Hi', 'hello', 'how', 'are', 'you']\n"
     ]
    },
    {
     "data": {
      "text/plain": [
       "5"
      ]
     },
     "execution_count": 41,
     "metadata": {},
     "output_type": "execute_result"
    }
   ],
   "source": [
    "l = 'Hi hello how are you'\n",
    "n = l.split()\n",
    "print(n)\n",
    "len(n)"
   ]
  },
  {
   "cell_type": "code",
   "execution_count": 40,
   "metadata": {},
   "outputs": [
    {
     "data": {
      "text/plain": [
       "11"
      ]
     },
     "execution_count": 40,
     "metadata": {},
     "output_type": "execute_result"
    }
   ],
   "source": [
    "## no_of words\n",
    "\n",
    "def no_words(filename):\n",
    "    c = 0\n",
    "    with open(filename) as f:\n",
    "        filedata = f.readlines()\n",
    "        for line in filedata:\n",
    "            words_list = line.split()\n",
    "            c += len(words_list)\n",
    "    return c\n",
    "no_words('APSSDC.txt')\n",
    "            "
   ]
  },
  {
   "cell_type": "code",
   "execution_count": null,
   "metadata": {},
   "outputs": [],
   "source": [
    "\n",
    "file data = Stay safe\n",
    "line = Stay safe\n",
    "words_list = ['Stay', 'safe']\n",
    "c = 0+len(words_list)\n",
    "words_list = ['welcome']\n",
    "c = 2+len(words_list)\n",
    "c = 3\n"
   ]
  },
  {
   "cell_type": "code",
   "execution_count": 42,
   "metadata": {},
   "outputs": [
    {
     "name": "stdout",
     "output_type": "stream",
     "text": [
      "i\n",
      "n\n",
      "d\n",
      "i\n",
      "a\n"
     ]
    }
   ],
   "source": [
    "s = 'india'\n",
    "for i in s:\n",
    "    print(i)"
   ]
  },
  {
   "cell_type": "markdown",
   "metadata": {},
   "source": [
    "- Task\n",
    "    - Word frequency\n",
    "    "
   ]
  },
  {
   "cell_type": "code",
   "execution_count": null,
   "metadata": {},
   "outputs": [],
   "source": [
    "function_calling(filename,'to')\n",
    "Output: 2"
   ]
  }
 ],
 "metadata": {
  "kernelspec": {
   "display_name": "Python 3",
   "language": "python",
   "name": "python3"
  },
  "language_info": {
   "codemirror_mode": {
    "name": "ipython",
    "version": 3
   },
   "file_extension": ".py",
   "mimetype": "text/x-python",
   "name": "python",
   "nbconvert_exporter": "python",
   "pygments_lexer": "ipython3",
   "version": "3.8.3"
  }
 },
 "nbformat": 4,
 "nbformat_minor": 4
}
