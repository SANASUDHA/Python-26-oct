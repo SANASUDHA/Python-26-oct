{
 "cells": [
  {
   "cell_type": "markdown",
   "metadata": {},
   "source": [
    "#### Maps in python\n",
    "- It produces a list of results.that it apply given functionto each item of a given iterable.(list,tuple,sets etc..)\n",
    "- syntax : map(function, iterable)"
   ]
  },
  {
   "cell_type": "code",
   "execution_count": 1,
   "metadata": {},
   "outputs": [
    {
     "name": "stdout",
     "output_type": "stream",
     "text": [
      "[2, 4, 6, 8]\n"
     ]
    }
   ],
   "source": [
    "def addition(n):\n",
    "    return n + n\n",
    "result = list(map(addition,range(1,5)))\n",
    "print(result)"
   ]
  },
  {
   "cell_type": "code",
   "execution_count": 2,
   "metadata": {},
   "outputs": [
    {
     "name": "stdout",
     "output_type": "stream",
     "text": [
      "[1, 4, 9, 16]\n"
     ]
    }
   ],
   "source": [
    "def squares(n):\n",
    "    return n**2\n",
    "result = list(map(squares,range(1,5)))\n",
    "print(result)"
   ]
  },
  {
   "cell_type": "markdown",
   "metadata": {},
   "source": [
    "### Filters in Python\n",
    "- Filter function in python is used to check whether given element is boolean or not. and it returns the element which is True.\n",
    "- syntax : f:x-->{T,F}"
   ]
  },
  {
   "cell_type": "code",
   "execution_count": 5,
   "metadata": {},
   "outputs": [
    {
     "name": "stdout",
     "output_type": "stream",
     "text": [
      "[2, 3, 5, 7, 11, 13, 17, 19]\n"
     ]
    }
   ],
   "source": [
    "def checkprime(n):\n",
    "    if n<2:\n",
    "        return False\n",
    "    for i in range(2,n//2+1):\n",
    "        \n",
    "        if n%i==0:\n",
    "            return False\n",
    "    return True\n",
    "primelist = list(filter(checkprime,range(1,20)))\n",
    "print(primelist)"
   ]
  },
  {
   "cell_type": "code",
   "execution_count": 6,
   "metadata": {},
   "outputs": [
    {
     "data": {
      "text/plain": [
       "[1, 2, 3]"
      ]
     },
     "execution_count": 6,
     "metadata": {},
     "output_type": "execute_result"
    }
   ],
   "source": [
    "lst = [1,2,'a','b','c',3]\n",
    "def isDigit(c):\n",
    "    c = str(c) # 'a'\n",
    "    if c.isdigit():\n",
    "        return True\n",
    "    return False\n",
    "isDigit('a')\n",
    "list(filter(isDigit,lst))"
   ]
  },
  {
   "cell_type": "markdown",
   "metadata": {},
   "source": [
    "### Lambdas in python\n",
    "- syntax : lambda argument : expression\n",
    "- ex: lambda x : x^3\n",
    "- ex: lambda x,y : x+y"
   ]
  },
  {
   "cell_type": "code",
   "execution_count": 7,
   "metadata": {},
   "outputs": [
    {
     "data": {
      "text/plain": [
       "64"
      ]
     },
     "execution_count": 7,
     "metadata": {},
     "output_type": "execute_result"
    }
   ],
   "source": [
    "res = lambda x : x**3\n",
    "res(4)"
   ]
  },
  {
   "cell_type": "code",
   "execution_count": 9,
   "metadata": {},
   "outputs": [
    {
     "data": {
      "text/plain": [
       "[1, 4, 9, 49, 64, 81]"
      ]
     },
     "execution_count": 9,
     "metadata": {},
     "output_type": "execute_result"
    }
   ],
   "source": [
    "list(map(lambda x:x**2,[1,2,3,7,8,9]))"
   ]
  },
  {
   "cell_type": "code",
   "execution_count": 10,
   "metadata": {},
   "outputs": [
    {
     "name": "stdout",
     "output_type": "stream",
     "text": [
      "[20, 22, 24, 26, 28, 30, 32, 34, 36, 38]\n"
     ]
    }
   ],
   "source": [
    "even = lambda x : x%2==0\n",
    "res = list(filter(even,range(20,40)))\n",
    "print(res)"
   ]
  },
  {
   "cell_type": "code",
   "execution_count": 11,
   "metadata": {},
   "outputs": [],
   "source": [
    "from random import randint\n",
    "\n",
    "def genmarks(n, lb, ub):\n",
    "    filename = \"DataFiles/marks.txt\"\n",
    "    with open(filename, 'w') as f:\n",
    "        for i in range(n):\n",
    "            marks = randint(lb,ub)\n",
    "            f.write(str(marks)+'\\n')\n",
    "    return\n",
    "\n",
    "genmarks(20, 0, 100)"
   ]
  },
  {
   "cell_type": "code",
   "execution_count": 12,
   "metadata": {},
   "outputs": [
    {
     "data": {
      "text/plain": [
       "56"
      ]
     },
     "execution_count": 12,
     "metadata": {},
     "output_type": "execute_result"
    }
   ],
   "source": [
    "# class Average\n",
    "def readmarks(filepath):\n",
    "    with open(filepath, 'r') as f:\n",
    "        filedata = f.read().split()\n",
    "    return list(map(int, filedata))\n",
    "\n",
    "def class_avg(filepath):\n",
    "    markslist = readmarks(filepath)\n",
    "    return sum(markslist)//len(markslist)\n",
    "\n",
    "filepath = \"DataFiles/marks.txt\"\n",
    "class_avg(filepath)"
   ]
  },
  {
   "cell_type": "code",
   "execution_count": 13,
   "metadata": {},
   "outputs": [
    {
     "data": {
      "text/plain": [
       "20.0"
      ]
     },
     "execution_count": 13,
     "metadata": {},
     "output_type": "execute_result"
    }
   ],
   "source": [
    "def percent_Fail(filepath):\n",
    "    markslist = readmarks(filepath)\n",
    "    failedcount=len(list(filter(lambda mark:mark<40,markslist)))\n",
    "    return (failedcount/len(markslist))*100\n",
    "\n",
    "percent_Fail(filepath)"
   ]
  },
  {
   "cell_type": "code",
   "execution_count": 15,
   "metadata": {},
   "outputs": [
    {
     "data": {
      "text/plain": [
       "80.0"
      ]
     },
     "execution_count": 15,
     "metadata": {},
     "output_type": "execute_result"
    }
   ],
   "source": [
    "def percent_Pass(filepath):\n",
    "    return 100-percent_Fail(filepath)\n",
    "\n",
    "percent_Pass(filepath)"
   ]
  },
  {
   "cell_type": "code",
   "execution_count": null,
   "metadata": {},
   "outputs": [],
   "source": []
  }
 ],
 "metadata": {
  "kernelspec": {
   "display_name": "Python 3",
   "language": "python",
   "name": "python3"
  },
  "language_info": {
   "codemirror_mode": {
    "name": "ipython",
    "version": 3
   },
   "file_extension": ".py",
   "mimetype": "text/x-python",
   "name": "python",
   "nbconvert_exporter": "python",
   "pygments_lexer": "ipython3",
   "version": "3.7.6"
  }
 },
 "nbformat": 4,
 "nbformat_minor": 4
}
